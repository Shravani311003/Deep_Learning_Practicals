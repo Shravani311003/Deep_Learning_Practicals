{
  "cells": [
    {
      "cell_type": "code",
      "execution_count": null,
      "id": "994f6651",
      "metadata": {
        "id": "994f6651"
      },
      "outputs": [],
      "source": [
        "import numpy as np\n",
        "import tensorflow as tf\n",
        "import matplotlib.pyplot as plt\n",
        "from tensorflow.keras.datasets import mnist, cifar10\n",
        "from tensorflow.keras.models import Sequential\n",
        "from tensorflow.keras.layers import Dense, Flatten\n",
        "from tensorflow.keras.utils import to_categorical\n",
        "from tensorflow.keras.optimizers import SGD\n",
        "import random"
      ]
    },
    {
      "cell_type": "code",
      "execution_count": null,
      "id": "abad6ce3",
      "metadata": {
        "id": "abad6ce3"
      },
      "outputs": [],
      "source": [
        "(x_train,y_train),(x_test , y_test) = mnist.load_data()\n"
      ]
    },
    {
      "cell_type": "code",
      "execution_count": null,
      "id": "bebfc6a2",
      "metadata": {
        "id": "bebfc6a2"
      },
      "outputs": [],
      "source": [
        "#Normalize the images to the range [0,1\n",
        "x_train,x_test = x_train / 255.0, x_test / 255.0\n"
      ]
    },
    {
      "cell_type": "code",
      "execution_count": null,
      "id": "f9c714ed",
      "metadata": {
        "id": "f9c714ed"
      },
      "outputs": [],
      "source": [
        "y_train = tf.keras.utils.to_categorical(y_train,10)\n",
        "y_test = tf.keras.utils.to_categorical(y_test,10"
      ]
    },
    {
      "cell_type": "code",
      "execution_count": null,
      "id": "d42b09cb",
      "metadata": {
        "id": "d42b09cb"
      },
      "outputs": [],
      "source": [
        "model = Sequential([\n",
        "    Flatten(input_shape=(28,28)),\n",
        "    Dense(128,activation='relu'),\n",
        "    Dense(64,activation='relu'),\n",
        "    Dense(10,activation='softmax')\n",
        "])"
      ]
    },
    {
      "cell_type": "code",
      "execution_count": null,
      "id": "da3a56e4",
      "metadata": {
        "id": "da3a56e4"
      },
      "outputs": [],
      "source": [
        "#Compile the model\n",
        "model.compile(optimizer=SGD(),\n",
        "             loss='categorical_crossentropy',\n",
        "             metrics=['accuracy'])"
      ]
    },
    {
      "cell_type": "code",
      "execution_count": null,
      "id": "39471823",
      "metadata": {
        "id": "39471823",
        "outputId": "a2312925-a62d-4819-d677-9c99c246900f"
      },
      "outputs": [
        {
          "name": "stdout",
          "output_type": "stream",
          "text": [
            "Epoch 1/20\n"
          ]
        },
        {
          "name": "stderr",
          "output_type": "stream",
          "text": [
            "2024-08-06 09:49:40.637986: W tensorflow/tsl/framework/cpu_allocator_impl.cc:83] Allocation of 188160000 exceeds 10% of free system memory.\n"
          ]
        },
        {
          "name": "stdout",
          "output_type": "stream",
          "text": [
            "1875/1875 [==============================] - 2s 912us/step - loss: 0.6835 - accuracy: 0.8156 - val_loss: 0.3269 - val_accuracy: 0.9061\n",
            "Epoch 2/20\n",
            "1875/1875 [==============================] - 2s 858us/step - loss: 0.2977 - accuracy: 0.9141 - val_loss: 0.2565 - val_accuracy: 0.9271\n",
            "Epoch 3/20\n",
            "1875/1875 [==============================] - 2s 853us/step - loss: 0.2432 - accuracy: 0.9299 - val_loss: 0.2162 - val_accuracy: 0.9366\n",
            "Epoch 4/20\n",
            "1875/1875 [==============================] - 2s 881us/step - loss: 0.2092 - accuracy: 0.9392 - val_loss: 0.1887 - val_accuracy: 0.9453\n",
            "Epoch 5/20\n",
            "1875/1875 [==============================] - 2s 854us/step - loss: 0.1840 - accuracy: 0.9460 - val_loss: 0.1696 - val_accuracy: 0.9516\n",
            "Epoch 6/20\n",
            "1875/1875 [==============================] - 2s 857us/step - loss: 0.1642 - accuracy: 0.9517 - val_loss: 0.1574 - val_accuracy: 0.9539\n",
            "Epoch 7/20\n",
            "1875/1875 [==============================] - 2s 838us/step - loss: 0.1477 - accuracy: 0.9575 - val_loss: 0.1427 - val_accuracy: 0.9572\n",
            "Epoch 8/20\n",
            "1875/1875 [==============================] - 2s 909us/step - loss: 0.1344 - accuracy: 0.9607 - val_loss: 0.1321 - val_accuracy: 0.9611\n",
            "Epoch 9/20\n",
            "1875/1875 [==============================] - 2s 865us/step - loss: 0.1231 - accuracy: 0.9646 - val_loss: 0.1259 - val_accuracy: 0.9624\n",
            "Epoch 10/20\n",
            "1875/1875 [==============================] - 2s 857us/step - loss: 0.1137 - accuracy: 0.9675 - val_loss: 0.1172 - val_accuracy: 0.9647\n",
            "Epoch 11/20\n",
            "1875/1875 [==============================] - 2s 847us/step - loss: 0.1057 - accuracy: 0.9699 - val_loss: 0.1145 - val_accuracy: 0.9648\n",
            "Epoch 12/20\n",
            "1875/1875 [==============================] - 2s 851us/step - loss: 0.0983 - accuracy: 0.9717 - val_loss: 0.1095 - val_accuracy: 0.9675\n",
            "Epoch 13/20\n",
            "1875/1875 [==============================] - 2s 850us/step - loss: 0.0921 - accuracy: 0.9737 - val_loss: 0.1064 - val_accuracy: 0.9678\n",
            "Epoch 14/20\n",
            "1875/1875 [==============================] - 2s 857us/step - loss: 0.0862 - accuracy: 0.9754 - val_loss: 0.1026 - val_accuracy: 0.9688\n",
            "Epoch 15/20\n",
            "1875/1875 [==============================] - 2s 858us/step - loss: 0.0814 - accuracy: 0.9769 - val_loss: 0.0980 - val_accuracy: 0.9698\n",
            "Epoch 16/20\n",
            "1875/1875 [==============================] - 2s 849us/step - loss: 0.0765 - accuracy: 0.9776 - val_loss: 0.0980 - val_accuracy: 0.9697\n",
            "Epoch 17/20\n",
            "1875/1875 [==============================] - 2s 851us/step - loss: 0.0723 - accuracy: 0.9793 - val_loss: 0.0902 - val_accuracy: 0.9722\n",
            "Epoch 18/20\n",
            "1875/1875 [==============================] - 2s 859us/step - loss: 0.0683 - accuracy: 0.9804 - val_loss: 0.0892 - val_accuracy: 0.9728\n",
            "Epoch 19/20\n",
            "1875/1875 [==============================] - 2s 874us/step - loss: 0.0646 - accuracy: 0.9812 - val_loss: 0.0898 - val_accuracy: 0.9716\n",
            "Epoch 20/20\n",
            "1875/1875 [==============================] - 2s 849us/step - loss: 0.0614 - accuracy: 0.9827 - val_loss: 0.0864 - val_accuracy: 0.9729\n"
          ]
        }
      ],
      "source": [
        "#TRain the model\n",
        "history = model.fit(x_train,y_train,epochs=20, batch_size=32,validation_data=(x_test,y_test))"
      ]
    },
    {
      "cell_type": "code",
      "execution_count": null,
      "id": "cd172d8a",
      "metadata": {
        "id": "cd172d8a",
        "outputId": "3c058cba-b30a-485a-aefa-98349b66bc63"
      },
      "outputs": [
        {
          "name": "stdout",
          "output_type": "stream",
          "text": [
            "313/313 [==============================] - 0s 604us/step - loss: 0.0864 - accuracy: 0.9729\n",
            "test_loss: 0.08636705577373505\n",
            "Test Accuracy: 0.9728999733924866\n"
          ]
        }
      ],
      "source": [
        "#Evaluating\n",
        "test_loss, test_acc = model.evaluate(x_test, y_test)\n",
        "print(f'test_loss: {test_loss}')\n",
        "print(f'Test Accuracy: {test_acc}')"
      ]
    },
    {
      "cell_type": "code",
      "execution_count": null,
      "id": "d7805a07",
      "metadata": {
        "id": "d7805a07",
        "outputId": "11a7deab-1add-475f-9691-75eb4d117efd"
      },
      "outputs": [
        {
          "data": {
            "text/plain": [
              "<matplotlib.legend.Legend at 0x7fdffccb5ed0>"
            ]
          },
          "execution_count": 28,
          "metadata": {},
          "output_type": "execute_result"
        },
        {
          "data": {
            "image/png": "[encoded data removed]",
            "text/plain": [
              "<Figure size 864x288 with 1 Axes>"
            ]
          },
          "metadata": {
            "needs_background": "light"
          },
          "output_type": "display_data"
        }
      ],
      "source": [
        "#Plotting training loss and accuracy\n",
        "plt.figure(figsize=(12,4))\n",
        "plt.subplot(1,2,1)\n",
        "plt.plot(history.history['loss'])\n",
        "plt.plot(history.history['val_loss'])\n",
        "plt.title('Model loss')\n",
        "plt.ylabel('Loss')\n",
        "plt.xlabel('Epoch')\n",
        "plt.legend (['Train','Test'],loc='upper left')"
      ]
    },
    {
      "cell_type": "code",
      "execution_count": null,
      "id": "9cc030f1",
      "metadata": {
        "id": "9cc030f1",
        "outputId": "0761e3b7-9e24-446d-eb19-22ebcf8e8e95"
      },
      "outputs": [
        {
          "data": {
            "image/png": "[encoded data removed]",
            "text/plain": [
              "<Figure size 864x288 with 1 Axes>"
            ]
          },
          "metadata": {
            "needs_background": "light"
          },
          "output_type": "display_data"
        }
      ],
      "source": [
        "plt.figure(figsize=(12,4))\n",
        "plt.subplot(1,2,1)\n",
        "plt.plot(history.history['accuracy'])\n",
        "plt.plot(history.history['val_accuracy'])\n",
        "plt.title('Model accuracy')\n",
        "plt.ylabel('Accuracy')\n",
        "plt.xlabel('Epoch')\n",
        "plt.legend (['Train','Test'],loc='upper left')\n",
        "plt.show()"
      ]
    },
    {
      "cell_type": "code",
      "execution_count": null,
      "id": "fe0b36f2",
      "metadata": {
        "id": "fe0b36f2",
        "outputId": "fc078da9-a795-43de-8061-3af795e84ecc"
      },
      "outputs": [
        {
          "data": {
            "text/plain": [
              "<matplotlib.image.AxesImage at 0x7fdfd47e0ac0>"
            ]
          },
          "execution_count": 32,
          "metadata": {},
          "output_type": "execute_result"
        },
        {
          "data": {
            "image/png": "[encoded data removed]",
            "text/plain": [
              "<Figure size 288x288 with 1 Axes>"
            ]
          },
          "metadata": {
            "needs_background": "light"
          },
          "output_type": "display_data"
        }
      ],
      "source": [
        "plt.matshow(x_train[0])"
      ]
    },
    {
      "cell_type": "code",
      "execution_count": null,
      "id": "7107ab88",
      "metadata": {
        "id": "7107ab88",
        "outputId": "b0823ffc-c3b0-4b6d-d618-8822e666c8d2"
      },
      "outputs": [
        {
          "data": {
            "image/png": "[encoded data removed]",
            "text/plain": [
              "<Figure size 432x288 with 1 Axes>"
            ]
          },
          "metadata": {
            "needs_background": "light"
          },
          "output_type": "display_data"
        }
      ],
      "source": [
        "n = random.randint(0, len(x_test) - 1)\n",
        "\n",
        "# Display the image\n",
        "plt.imshow(x_test[n],)\n",
        "plt.title(f\"Label: {np.argmax(y_test[n])}\")\n",
        "plt.show()"
      ]
    },
    {
      "cell_type": "code",
      "execution_count": null,
      "id": "3481aefa",
      "metadata": {
        "id": "3481aefa"
      },
      "outputs": [],
      "source": []
    },
    {
      "cell_type": "code",
      "execution_count": null,
      "id": "d0fdf24d",
      "metadata": {
        "id": "d0fdf24d"
      },
      "outputs": [],
      "source": []
    }
  ],
  "metadata": {
    "kernelspec": {
      "display_name": "Python 3 (ipykernel)",
      "language": "python",
      "name": "python3"
    },
    "language_info": {
      "codemirror_mode": {
        "name": "ipython",
        "version": 3
      },
      "file_extension": ".py",
      "mimetype": "text/x-python",
      "name": "python",
      "nbconvert_exporter": "python",
      "pygments_lexer": "ipython3",
      "version": "3.10.12"
    },
    "colab": {
      "provenance": []
    }
  },
  "nbformat": 4,
  "nbformat_minor": 5
}